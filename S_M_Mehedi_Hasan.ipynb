{
  "nbformat": 4,
  "nbformat_minor": 0,
  "metadata": {
    "colab": {
      "provenance": []
    },
    "kernelspec": {
      "name": "python3",
      "display_name": "Python 3"
    },
    "language_info": {
      "name": "python"
    }
  },
  "cells": [
    {
      "cell_type": "markdown",
      "source": [
        "**Email address: hasanmehedi63395@gmail.com**\n"
      ],
      "metadata": {
        "id": "Qrj9Wlfl-FYl"
      }
    },
    {
      "cell_type": "code",
      "execution_count": null,
      "metadata": {
        "colab": {
          "base_uri": "https://localhost:8080/"
        },
        "id": "L2afLRvs91hH",
        "outputId": "b915ef29-5fc6-4e13-df89-0985c79e54ae"
      },
      "outputs": [
        {
          "output_type": "stream",
          "name": "stdout",
          "text": [
            "Sample Data Created and Saved as employees.csv\n"
          ]
        }
      ],
      "source": [
        "# You must run this code and use that data set for all the questions\n",
        "import numpy as np\n",
        "import pandas as pd\n",
        "\n",
        "np.random.seed(42)\n",
        "\n",
        "ids = np.arange(1, 11)\n",
        "ages = np.random.randint(18, 60, 10)\n",
        "salaries = np.random.randint(30000, 90000, 10)\n",
        "departments = np.array([\"HR\", \"IT\", \"Finance\", \"IT\", \"HR\", \"Sales\", \"Finance\", \"IT\", \"Sales\", \"HR\"])\n",
        "\n",
        "DF = pd.DataFrame({\n",
        "\"id\": ids,\n",
        "\"age\": ages,\n",
        "\"salary\": salaries,\n",
        "\"dept\": departments\n",
        "})\n",
        "\n",
        "DF.to_csv(\"employees.csv\", index=False)\n",
        "print(\"Sample Data Created and Saved as employees.csv\")\n"
      ]
    },
    {
      "cell_type": "markdown",
      "source": [
        "### **Answer to the Q1**"
      ],
      "metadata": {
        "id": "nTbCOXguAHKc"
      }
    },
    {
      "cell_type": "code",
      "source": [
        "ages = DF[\"age\"].to_numpy()\n",
        "salaries = DF[\"salary\"].to_numpy()\n",
        "print(\"Ages:\", ages)\n",
        "print(\"Salaries:\", salaries)\n",
        "print('--------')\n",
        "print(ages.dtype)\n",
        "print(ages.ndim)\n",
        "print(ages.shape)\n",
        "print(ages.size)\n",
        "print('--------')\n",
        "print(salaries.dtype)\n",
        "print(salaries.ndim)\n",
        "print(salaries.shape)\n",
        "print(salaries.size)"
      ],
      "metadata": {
        "id": "FPDViQZxAiOs",
        "colab": {
          "base_uri": "https://localhost:8080/"
        },
        "outputId": "58bba4d4-c0e5-46bd-8ab8-29ea3e1389e2"
      },
      "execution_count": null,
      "outputs": [
        {
          "output_type": "stream",
          "name": "stdout",
          "text": [
            "Ages: [56 46 32 25 38 56 36 40 28 28]\n",
            "Salaries: [77191 74131 46023 71090 31685 30769 89735 86101 32433 35311]\n",
            "--------\n",
            "int64\n",
            "1\n",
            "(10,)\n",
            "10\n",
            "--------\n",
            "int64\n",
            "1\n",
            "(10,)\n",
            "10\n"
          ]
        }
      ]
    },
    {
      "cell_type": "markdown",
      "source": [
        "### **Answer to the Q2**"
      ],
      "metadata": {
        "id": "6nSvMDuv9FoU"
      }
    },
    {
      "cell_type": "code",
      "source": [
        "highest_salary = np.max(salaries)\n",
        "lowest_salary = np.min(salaries)\n",
        "avg_salary = np.mean(salaries)\n",
        "avg_age = np.mean(ages)\n",
        "\n",
        "print(\"Highest Salary:\", highest_salary)\n",
        "print(\"Lowest Salary:\", lowest_salary)\n",
        "print(\"Average Salary:\", avg_salary)\n",
        "print(\"Average Age:\", avg_age)\n"
      ],
      "metadata": {
        "colab": {
          "base_uri": "https://localhost:8080/"
        },
        "id": "vwbEk5EO-0vM",
        "outputId": "bd3d6b5c-f9c1-4120-c122-97f313d19ed2"
      },
      "execution_count": null,
      "outputs": [
        {
          "output_type": "stream",
          "name": "stdout",
          "text": [
            "Highest Salary: 89735\n",
            "Lowest Salary: 30769\n",
            "Average Salary: 57446.9\n",
            "Average Age: 38.5\n"
          ]
        }
      ]
    },
    {
      "cell_type": "markdown",
      "source": [
        "### **Answer to the Q3**"
      ],
      "metadata": {
        "id": "P37kRXNWBZ2T"
      }
    },
    {
      "cell_type": "code",
      "source": [
        "ages_over_30 = ages[ages > 30]\n",
        "count_over_30 = np.sum(ages > 30)\n",
        "\n",
        "print(\"Ages greater than 30:\", ages_over_30)\n",
        "print(\"Number of employees older than 30:\", count_over_30)\n"
      ],
      "metadata": {
        "colab": {
          "base_uri": "https://localhost:8080/"
        },
        "id": "5bBaRoLABhh3",
        "outputId": "80f92eab-21c8-47c2-8eff-b7e0581e1000"
      },
      "execution_count": null,
      "outputs": [
        {
          "output_type": "stream",
          "name": "stdout",
          "text": [
            "Ages greater than 30: [56 46 32 38 56 36 40]\n",
            "Number of employees older than 30: 7\n"
          ]
        }
      ]
    },
    {
      "cell_type": "markdown",
      "source": [
        "### **Answer to the Q4**"
      ],
      "metadata": {
        "id": "6Fk85cDNEe5Y"
      }
    },
    {
      "cell_type": "code",
      "source": [
        "increased_ages = ages + 5\n",
        "print(\"Updated Ages:\", increased_ages)\n"
      ],
      "metadata": {
        "colab": {
          "base_uri": "https://localhost:8080/"
        },
        "id": "ogD7BgjXEnsY",
        "outputId": "cc398a04-261b-465c-edc8-e282454f0b91"
      },
      "execution_count": null,
      "outputs": [
        {
          "output_type": "stream",
          "name": "stdout",
          "text": [
            "Updated Ages: [61 51 37 30 43 61 41 45 33 33]\n"
          ]
        }
      ]
    },
    {
      "cell_type": "markdown",
      "source": [
        "### **Answer to the Q5**"
      ],
      "metadata": {
        "id": "symu2OZL_wN7"
      }
    },
    {
      "cell_type": "code",
      "source": [
        "total_salary = np.sum(salaries)\n",
        "differance_max_min = np.ptp(salaries)\n",
        "\n",
        "print(\"Total Salary Expense:\", total_salary)\n",
        "print(\"Difference between Max and Min Salary:\", differance_max_min)\n"
      ],
      "metadata": {
        "colab": {
          "base_uri": "https://localhost:8080/"
        },
        "id": "vd03_VTm_0SO",
        "outputId": "963f4c55-8cf1-45ed-f3ce-03d9fa428055"
      },
      "execution_count": null,
      "outputs": [
        {
          "output_type": "stream",
          "name": "stdout",
          "text": [
            "Total Salary Expense: 574469\n",
            "Difference between Max and Min Salary: 58966\n"
          ]
        }
      ]
    },
    {
      "cell_type": "markdown",
      "source": [
        "## **Answer to the Q6**\n"
      ],
      "metadata": {
        "id": "sY-3mC1J--_A"
      }
    },
    {
      "cell_type": "code",
      "source": [
        "df = pd.read_csv('employees.csv')\n",
        "\n",
        "print(df.head())\n",
        "print('---------------------------------')\n",
        "df.info()\n",
        "print('---------------------------------')\n",
        "print(df.describe())"
      ],
      "metadata": {
        "id": "kY57W2hc_JSo",
        "colab": {
          "base_uri": "https://localhost:8080/"
        },
        "outputId": "ba285110-6982-4e8a-902b-7028c35831a7"
      },
      "execution_count": null,
      "outputs": [
        {
          "output_type": "stream",
          "name": "stdout",
          "text": [
            "   id  age  salary     dept\n",
            "0   1   56   77191       HR\n",
            "1   2   46   74131       IT\n",
            "2   3   32   46023  Finance\n",
            "3   4   25   71090       IT\n",
            "4   5   38   31685       HR\n",
            "---------------------------------\n",
            "<class 'pandas.core.frame.DataFrame'>\n",
            "RangeIndex: 10 entries, 0 to 9\n",
            "Data columns (total 4 columns):\n",
            " #   Column  Non-Null Count  Dtype \n",
            "---  ------  --------------  ----- \n",
            " 0   id      10 non-null     int64 \n",
            " 1   age     10 non-null     int64 \n",
            " 2   salary  10 non-null     int64 \n",
            " 3   dept    10 non-null     object\n",
            "dtypes: int64(3), object(1)\n",
            "memory usage: 452.0+ bytes\n",
            "---------------------------------\n",
            "             id       age        salary\n",
            "count  10.00000  10.00000     10.000000\n",
            "mean    5.50000  38.50000  57446.900000\n",
            "std     3.02765  11.16791  24357.262884\n",
            "min     1.00000  25.00000  30769.000000\n",
            "25%     3.25000  29.00000  33152.500000\n",
            "50%     5.50000  37.00000  58556.500000\n",
            "75%     7.75000  44.50000  76426.000000\n",
            "max    10.00000  56.00000  89735.000000\n"
          ]
        }
      ]
    },
    {
      "cell_type": "markdown",
      "source": [
        "## **Answer to the Q7**"
      ],
      "metadata": {
        "id": "gFQrZ2UwEAPI"
      }
    },
    {
      "cell_type": "code",
      "source": [
        "#Display only the id, age, and salary columns.\n",
        "print(df[['id', 'age', 'salary']])\n",
        "print()\n",
        "#Then show the last 3 rows using tail().\n",
        "print(df[['id', 'age', 'salary']].tail(3))"
      ],
      "metadata": {
        "colab": {
          "base_uri": "https://localhost:8080/"
        },
        "id": "BuiMeiYaEG3i",
        "outputId": "88bfe1f2-c297-4d1d-ced9-b75130c6d870"
      },
      "execution_count": null,
      "outputs": [
        {
          "output_type": "stream",
          "name": "stdout",
          "text": [
            "   id  age  salary\n",
            "0   1   56   77191\n",
            "1   2   46   74131\n",
            "2   3   32   46023\n",
            "3   4   25   71090\n",
            "4   5   38   31685\n",
            "5   6   56   30769\n",
            "6   7   36   89735\n",
            "7   8   40   86101\n",
            "8   9   28   32433\n",
            "9  10   28   35311\n",
            "\n",
            "   id  age  salary\n",
            "7   8   40   86101\n",
            "8   9   28   32433\n",
            "9  10   28   35311\n"
          ]
        }
      ]
    },
    {
      "cell_type": "markdown",
      "source": [
        "### **Answer to the Q8**"
      ],
      "metadata": {
        "id": "YedNLd3dEzUh"
      }
    },
    {
      "cell_type": "code",
      "source": [
        "df = pd.read_csv('employees.csv')\n",
        "\n",
        "it = df[df['dept'] == 'IT']\n",
        "print(it)\n",
        "\n",
        "total_it = len(it)\n",
        "print(\"Total number of IT employees:\", total_it)\n",
        "\n"
      ],
      "metadata": {
        "colab": {
          "base_uri": "https://localhost:8080/"
        },
        "id": "M9rVbuaIE0ol",
        "outputId": "12f4f6b4-6b80-4d3d-9e56-61a86f785bfa"
      },
      "execution_count": null,
      "outputs": [
        {
          "output_type": "stream",
          "name": "stdout",
          "text": [
            "   id  age  salary dept\n",
            "1   2   46   74131   IT\n",
            "3   4   25   71090   IT\n",
            "7   8   40   86101   IT\n",
            "Total number of IT employees: 3\n"
          ]
        }
      ]
    },
    {
      "cell_type": "markdown",
      "source": [
        "### **Answer to the Q9**"
      ],
      "metadata": {
        "id": "yipHfb95FdVu"
      }
    },
    {
      "cell_type": "code",
      "source": [
        "highest_paid = df.sort_values(by='salary', ascending=False).head(3)\n",
        "print(highest_paid[['id', 'dept', 'age', 'salary']])\n"
      ],
      "metadata": {
        "colab": {
          "base_uri": "https://localhost:8080/"
        },
        "id": "yenZMGJ2Fh4V",
        "outputId": "617410b6-e9d3-4b89-e547-23845cfcac34"
      },
      "execution_count": null,
      "outputs": [
        {
          "output_type": "stream",
          "name": "stdout",
          "text": [
            "   id     dept  age  salary\n",
            "6   7  Finance   36   89735\n",
            "7   8       IT   40   86101\n",
            "0   1       HR   56   77191\n"
          ]
        }
      ]
    },
    {
      "cell_type": "markdown",
      "source": [
        "### **Answer to the Q10**"
      ],
      "metadata": {
        "id": "fZ0aIYMaFoSe"
      }
    },
    {
      "cell_type": "code",
      "source": [
        "df.loc[df['salary'] > 80000, 'salary'] = 80000\n",
        "new_avg_salary = df['salary'].mean()\n",
        "\n",
        "print(\"New average salary after replacement:\", new_avg_salary)\n"
      ],
      "metadata": {
        "colab": {
          "base_uri": "https://localhost:8080/"
        },
        "id": "Dl6-W3ezFrg6",
        "outputId": "ceb17b97-fea8-4519-877b-42d5ba4a8981"
      },
      "execution_count": null,
      "outputs": [
        {
          "output_type": "stream",
          "name": "stdout",
          "text": [
            "New average salary after replacement: 55863.3\n"
          ]
        }
      ]
    }
  ]
}